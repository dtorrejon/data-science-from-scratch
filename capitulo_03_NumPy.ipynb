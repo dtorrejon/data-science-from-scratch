{
  "nbformat": 4,
  "nbformat_minor": 0,
  "metadata": {
    "colab": {
      "provenance": [],
      "authorship_tag": "ABX9TyPtrdeLAzXeN9pEBud7D8EB",
      "include_colab_link": true
    },
    "kernelspec": {
      "name": "python3",
      "display_name": "Python 3"
    },
    "language_info": {
      "name": "python"
    }
  },
  "cells": [
    {
      "cell_type": "markdown",
      "metadata": {
        "id": "view-in-github",
        "colab_type": "text"
      },
      "source": [
        "<a href=\"https://colab.research.google.com/github/dtorrejon/data-science-from-scratch/blob/master/capitulo_03_NumPy.ipynb\" target=\"_parent\"><img src=\"https://colab.research.google.com/assets/colab-badge.svg\" alt=\"Open In Colab\"/></a>"
      ]
    },
    {
      "cell_type": "markdown",
      "source": [
        "##FUNDAMENTOS NUMPY\n",
        "\n",
        "###Rendimiento de numpy\n",
        "\n",
        "Comparama los tiempos de ejecucion, para realizar una operacion sobre un array de numpy y uno nativo de python\n"
      ],
      "metadata": {
        "id": "tZmowaMx40EU"
      }
    },
    {
      "cell_type": "code",
      "source": [
        "import numpy as np\n",
        "my_array = np.arange(1_000_000)\n",
        "my_list = list(range(1_000_000))\n",
        "\n",
        "%timeit my_array2 = my_array*2\n",
        "%timeit my_list2 = [element * 2 for element in my_list]"
      ],
      "metadata": {
        "colab": {
          "base_uri": "https://localhost:8080/"
        },
        "id": "JbHQM59T5HcP",
        "outputId": "e6856fe7-702f-4584-8be7-79198efc9250"
      },
      "execution_count": 5,
      "outputs": [
        {
          "output_type": "stream",
          "name": "stdout",
          "text": [
            "1.21 ms ± 103 µs per loop (mean ± std. dev. of 7 runs, 1000 loops each)\n",
            "91.9 ms ± 20.5 ms per loop (mean ± std. dev. of 7 runs, 10 loops each)\n"
          ]
        }
      ]
    },
    {
      "cell_type": "markdown",
      "source": [
        "###ndarray en numpy (objeto array n-dimensional)"
      ],
      "metadata": {
        "id": "yHSXyR7c7xf1"
      }
    },
    {
      "cell_type": "code",
      "source": [
        "import"
      ],
      "metadata": {
        "id": "1Lzn5K5279wi"
      },
      "execution_count": null,
      "outputs": []
    }
  ]
}